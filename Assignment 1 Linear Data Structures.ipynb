{
 "cells": [
  {
   "cell_type": "markdown",
   "id": "26745e4d",
   "metadata": {},
   "source": [
    "Q.1).Delete the elements in an linked list whose sum is equal to zero"
   ]
  },
  {
   "cell_type": "code",
   "execution_count": 25,
   "id": "83fd6e34",
   "metadata": {},
   "outputs": [
    {
     "name": "stdout",
     "output_type": "stream",
     "text": [
      "[-18, 40, 25]\n"
     ]
    }
   ],
   "source": [
    "class Node():\n",
    "    def __init__(self,data):\n",
    "        self.data = data\n",
    "        self.next = None\n",
    "\n",
    "class Linkedlist():\n",
    "    def __init__(self):\n",
    "        self.head = None\n",
    "    \n",
    "    def append(self,data):\n",
    "        new_node = Node(data)\n",
    "        h = self.head\n",
    "        if self.head is None:\n",
    "            self.head = new_node\n",
    "            return\n",
    "        else:\n",
    "            while h.next!=None:\n",
    "                h = h.next\n",
    "            h.next = new_node\n",
    "\n",
    "    def remove_zeros_from_linkedlist(self, head):\n",
    "        stack = []\n",
    "        curr = head\n",
    "        list = []\n",
    "        while (curr):\n",
    "            if curr.data >= 0:\n",
    "                stack.append(curr)\n",
    "            else:\n",
    "                temp = curr\n",
    "                sum = temp.data\n",
    "                flag = False\n",
    "                while (len(stack) != 0):\n",
    "                    temp2 = stack.pop()\n",
    "                    sum += temp2.data\n",
    "                    if sum == 0:\n",
    "                        flag = True\n",
    "                        list = []\n",
    "                        break\n",
    "                    elif sum > 0:\n",
    "                        list.append(temp2)\n",
    "                if not flag:\n",
    "                    if len(list) > 0:\n",
    "                        for i in range(len(list)):\n",
    "                            stack.append(list.pop())\n",
    "                    stack.append(temp)\n",
    "            curr = curr.next\n",
    "        return [i.data for i in stack]\n",
    "\n",
    "l = Linkedlist()\n",
    "l.append(4)\n",
    "l.append(6)\n",
    "l.append(-10)\n",
    "l.append(8)\n",
    "l.append(7)\n",
    "l.append(10)\n",
    "l.append(-19)\n",
    "l.append(10)\n",
    "l.append(-18)\n",
    "l.append(40)\n",
    "l.append(25)\n",
    "print(l.remove_zeros_from_linkedlist(l.head))"
   ]
  },
  {
   "cell_type": "markdown",
   "id": "78b3637c",
   "metadata": {},
   "source": [
    "Q.2).Reverse a linked list in groups of given size"
   ]
  },
  {
   "cell_type": "code",
   "execution_count": 3,
   "id": "4eae8ddd",
   "metadata": {},
   "outputs": [
    {
     "name": "stdout",
     "output_type": "stream",
     "text": [
      "Given linked list\n",
      "1 2 3 4 5 6 7 8 9 \n",
      "Reversed Linked list\n",
      "3 2 1 6 5 4 9 8 7 "
     ]
    }
   ],
   "source": [
    "class Node:\n",
    "    def __init__(self, data):\n",
    "        self.data = data\n",
    "        self.next = None\n",
    " \n",
    " \n",
    "class LinkedList:\n",
    "    def __init__(self):\n",
    "        self.head = None\n",
    " \n",
    "    def reverse(self, head, k):\n",
    "       \n",
    "        if head == None:\n",
    "          return None\n",
    "        current = head\n",
    "        next = None\n",
    "        prev = None\n",
    "        count = 0\n",
    "        while(current is not None and count < k):\n",
    "            next = current.next\n",
    "            current.next = prev\n",
    "            prev = current\n",
    "            current = next\n",
    "            count += 1\n",
    " \n",
    "        if next is not None:\n",
    "            head.next = self.reverse(next, k)\n",
    " \n",
    "        return prev\n",
    " \n",
    "    def push(self, new_data):\n",
    "        new_node = Node(new_data)\n",
    "        new_node.next = self.head\n",
    "        self.head = new_node\n",
    " \n",
    "    def printList(self):\n",
    "        temp = self.head\n",
    "        while(temp):\n",
    "            print(temp.data,end=' ')\n",
    "            temp = temp.next\n",
    " \n",
    "\n",
    "llist = LinkedList()\n",
    "llist.push(9)\n",
    "llist.push(8)\n",
    "llist.push(7)\n",
    "llist.push(6)\n",
    "llist.push(5)\n",
    "llist.push(4)\n",
    "llist.push(3)\n",
    "llist.push(2)\n",
    "llist.push(1)\n",
    " \n",
    "print(\"Given linked list\")\n",
    "llist.printList()\n",
    "llist.head = llist.reverse(llist.head, 3)\n",
    " \n",
    "print (\"\\nReversed Linked list\")\n",
    "llist.printList()"
   ]
  },
  {
   "cell_type": "markdown",
   "id": "525c322d",
   "metadata": {},
   "source": [
    "Q.3.)Merge a linked list into another linked list at alternate positions."
   ]
  },
  {
   "cell_type": "code",
   "execution_count": 4,
   "id": "36048b01",
   "metadata": {},
   "outputs": [
    {
     "name": "stdout",
     "output_type": "stream",
     "text": [
      "First Linked List:\n",
      "0\n",
      "1\n",
      "2\n",
      "3\n",
      "Second Linked List:\n",
      "4\n",
      "5\n",
      "6\n",
      "7\n",
      "8\n",
      "Modified first linked list:\n",
      "0\n",
      "4\n",
      "1\n",
      "5\n",
      "2\n",
      "6\n",
      "3\n",
      "7\n",
      "Modified second linked list:\n",
      "8\n"
     ]
    }
   ],
   "source": [
    "class Node(object):\n",
    "    def __init__(self, data:int):\n",
    "        self.data = data\n",
    "        self.next = None\n",
    " \n",
    " \n",
    "class LinkedList(object):\n",
    "    def __init__(self):\n",
    "        self.head = None\n",
    "         \n",
    "    def push(self, new_data:int):\n",
    "        new_node = Node(new_data)\n",
    "        new_node.next = self.head\n",
    "        self.head = new_node\n",
    "         \n",
    "    def printList(self):\n",
    "        temp = self.head\n",
    "        while temp != None:\n",
    "            print(temp.data)\n",
    "            temp = temp.next\n",
    "  \n",
    "    def merge(self, p, q):\n",
    "        p_curr = p.head\n",
    "        q_curr = q.head\n",
    " \n",
    "        while p_curr != None and q_curr != None:\n",
    " \n",
    "            p_next = p_curr.next\n",
    "            q_next = q_curr.next\n",
    " \n",
    "            q_curr.next = p_next  \n",
    "            p_curr.next = q_curr  \n",
    "        \n",
    "            p_curr = p_next\n",
    "            q_curr = q_next\n",
    "            q.head = q_curr\n",
    " \n",
    "llist1 = LinkedList()\n",
    "llist2 = LinkedList()\n",
    " \n",
    "llist1.push(3)\n",
    "llist1.push(2)\n",
    "llist1.push(1)\n",
    "llist1.push(0)\n",
    " \n",
    "\n",
    "for i in range(8, 3, -1):\n",
    "    llist2.push(i)\n",
    " \n",
    "print(\"First Linked List:\")\n",
    "llist1.printList()\n",
    " \n",
    "print(\"Second Linked List:\")\n",
    "llist2.printList()\n",
    " \n",
    "# Merging the LLs\n",
    "llist1.merge(p=llist1, q=llist2)\n",
    " \n",
    "print(\"Modified first linked list:\")\n",
    "llist1.printList()\n",
    " \n",
    "print(\"Modified second linked list:\")\n",
    "llist2.printList()"
   ]
  },
  {
   "cell_type": "markdown",
   "id": "9edb3d94",
   "metadata": {},
   "source": [
    "Q.4.)In an array, Count Pairs with given sum"
   ]
  },
  {
   "cell_type": "code",
   "execution_count": 5,
   "id": "39455334",
   "metadata": {},
   "outputs": [
    {
     "name": "stdout",
     "output_type": "stream",
     "text": [
      "Count of pairs is 3\n"
     ]
    }
   ],
   "source": [
    "def getPairsCount(arr, n, sum):\n",
    " \n",
    "    count = 0 \n",
    "\n",
    "    for i in range(0, n):\n",
    "        for j in range(i + 1, n):\n",
    "            if arr[i] + arr[j] == sum:\n",
    "                count += 1\n",
    " \n",
    "    return count\n",
    "\n",
    "arr = [1, 5, 7, -1, 5]\n",
    "n = len(arr)\n",
    "sum = 6\n",
    "print(\"Count of pairs is\",\n",
    "      getPairsCount(arr, n, sum))"
   ]
  },
  {
   "cell_type": "markdown",
   "id": "277b05ac",
   "metadata": {},
   "source": [
    "Q.5.)Find duplicates in an array"
   ]
  },
  {
   "cell_type": "code",
   "execution_count": 13,
   "id": "59b718c7",
   "metadata": {},
   "outputs": [
    {
     "name": "stdout",
     "output_type": "stream",
     "text": [
      "The repeating elements are : \n",
      "3  \n",
      "8  \n"
     ]
    }
   ],
   "source": [
    "numRay = [0, 4, 3, 2, 7, 8, 8, 3, 1]\n",
    "arr_size = len(numRay)\n",
    "for i in range(arr_size):\n",
    " \n",
    "    x = numRay[i] % arr_size\n",
    "    numRay[x] = numRay[x] + arr_size\n",
    " \n",
    "print(\"The repeating elements are : \")\n",
    "for i in range(arr_size):\n",
    "    if (numRay[i] >= arr_size*2):\n",
    "        print(i, \" \")"
   ]
  },
  {
   "cell_type": "markdown",
   "id": "cf5e33ba",
   "metadata": {},
   "source": [
    "Q.6.)Find the Kth largest and Kth smallest number in an array"
   ]
  },
  {
   "cell_type": "code",
   "execution_count": 21,
   "id": "eb25a0ab",
   "metadata": {},
   "outputs": [
    {
     "data": {
      "text/plain": [
       "'The Kth smallest element is 3 and the Kth largest element is 12'"
      ]
     },
     "execution_count": 21,
     "metadata": {},
     "output_type": "execute_result"
    }
   ],
   "source": [
    "def largest_smallest(arr, k):\n",
    "    arr.sort()\n",
    "    return f'The Kth smallest element is {arr[k-1]} and the Kth largest element is {arr[-k]}'\n",
    "\n",
    "arr = [12, 3, 1, 19]\n",
    "k = 2\n",
    "largest_smallest(arr, k)"
   ]
  },
  {
   "cell_type": "markdown",
   "id": "b9ed5e6e",
   "metadata": {},
   "source": [
    "Q.7.)Move all the negative elements to one side of the array"
   ]
  },
  {
   "cell_type": "code",
   "execution_count": 10,
   "id": "80eeb096",
   "metadata": {},
   "outputs": [
    {
     "name": "stdout",
     "output_type": "stream",
     "text": [
      "[-1, -3, -7, 4, 5, 6, 2, 8, 9]\n"
     ]
    }
   ],
   "source": [
    "def rearrange(arr, n ) :\n",
    "\n",
    "    j = 0\n",
    "    for i in range(0, n) :\n",
    "        if (arr[i] < 0) :\n",
    "            temp = arr[i]\n",
    "            arr[i] = arr[j]\n",
    "            arr[j]= temp\n",
    "            j = j + 1\n",
    "    print(arr)\n",
    "\n",
    "arr = [-1, 2, -3, 4, 5, 6, -7, 8, 9]\n",
    "n = len(arr)\n",
    "rearrange(arr, n)\n",
    " "
   ]
  },
  {
   "cell_type": "markdown",
   "id": "613c2c71",
   "metadata": {},
   "source": [
    "Q.8).Reverse a string using a stack data structure"
   ]
  },
  {
   "cell_type": "code",
   "execution_count": 12,
   "id": "789b375a",
   "metadata": {},
   "outputs": [
    {
     "name": "stdout",
     "output_type": "stream",
     "text": [
      "Reversed string is ajehbajet\n"
     ]
    }
   ],
   "source": [
    "def createStack():\n",
    "    stack=[]\n",
    "    return stack\n",
    "\n",
    "def size(stack):\n",
    "    return len(stack)\n",
    "\n",
    "def isEmpty(stack):\n",
    "    if size(stack) == 0:\n",
    "        return true\n",
    " \n",
    "\n",
    "def push(stack,item):\n",
    "    stack.append(item)\n",
    " \n",
    "\n",
    "def pop(stack):\n",
    "    if isEmpty(stack): return\n",
    "    return stack.pop()\n",
    " \n",
    "\n",
    "def reverse(string):\n",
    "    n = len(string)\n",
    "     \n",
    "    stack = createStack()\n",
    " \n",
    " \n",
    "    for i in range(0,n,1):\n",
    "        push(stack,string[i])\n",
    "        \n",
    "    string=\"\"\n",
    "\n",
    "    for i in range(0,n,1):\n",
    "        string+=pop(stack)\n",
    "         \n",
    "    return string\n",
    "     \n",
    "\n",
    "string=\"tejabheja\"\n",
    "string = reverse(string)\n",
    "print(\"Reversed string is \" + string)"
   ]
  },
  {
   "cell_type": "markdown",
   "id": "6427a101",
   "metadata": {},
   "source": [
    "Q.9.)Evaluate a postfix expression using stack"
   ]
  },
  {
   "cell_type": "code",
   "execution_count": 18,
   "id": "d4723538",
   "metadata": {},
   "outputs": [
    {
     "name": "stdout",
     "output_type": "stream",
     "text": [
      "postfix evaluation: 29\n"
     ]
    }
   ],
   "source": [
    "class Evaluate:\n",
    "    def __init__(self, capacity):\n",
    "        self.top = -1\n",
    "        self.capacity = capacity\n",
    "   \n",
    "        self.array = []\n",
    "   \n",
    "    def isEmpty(self):\n",
    "        return True if self.top == -1 else False\n",
    "\n",
    "    def peek(self):\n",
    "        return self.array[-1]\n",
    "     \n",
    "    def pop(self):\n",
    "        if not self.isEmpty():\n",
    "            self.top -= 1\n",
    "            return self.array.pop()\n",
    "        else:\n",
    "            return \"$\"\n",
    "  \n",
    "    def push(self, op):\n",
    "        self.top += 1\n",
    "        self.array.append(op)\n",
    " \n",
    "\n",
    "    def evaluatePostfix(self, exp):\n",
    "         \n",
    "        for i in exp:\n",
    "             \n",
    "            if i.isdigit():\n",
    "                self.push(i)\n",
    "\n",
    "            else:\n",
    "                val1 = self.pop()\n",
    "                val2 = self.pop()\n",
    "                self.push(str(eval(val2 + i + val1)))\n",
    " \n",
    "        return int(self.pop())\n",
    "                \n",
    "exp = \"456*+5-\"\n",
    "obj = Evaluate(len(exp))\n",
    "print (\"postfix evaluation: %d\"%(obj.evaluatePostfix(exp)))"
   ]
  },
  {
   "cell_type": "markdown",
   "id": "6303563a",
   "metadata": {},
   "source": [
    "Q.10.)Implement a queue using the stack data structure"
   ]
  },
  {
   "cell_type": "code",
   "execution_count": 19,
   "id": "b626def0",
   "metadata": {},
   "outputs": [
    {
     "name": "stdout",
     "output_type": "stream",
     "text": [
      "1\n",
      "2\n",
      "3\n"
     ]
    }
   ],
   "source": [
    "class Queue: \n",
    "    def __init__(self):\n",
    "        self.s1 = []\n",
    "        self.s2 = []\n",
    "  \n",
    "    def enQueue(self, x):\n",
    "          \n",
    "        while len(self.s1) != 0: \n",
    "            self.s2.append(self.s1[-1]) \n",
    "            self.s1.pop()\n",
    "  \n",
    "    \n",
    "        self.s1.append(x) \n",
    "  \n",
    "        while len(self.s2) != 0: \n",
    "            self.s1.append(self.s2[-1]) \n",
    "            self.s2.pop()\n",
    "  \n",
    "    \n",
    "    def deQueue(self):\n",
    "          \n",
    "           \n",
    "        if len(self.s1) == 0: \n",
    "            print(\"Q is Empty\")\n",
    " \n",
    "        x = self.s1[-1] \n",
    "        self.s1.pop() \n",
    "        return x\n",
    "\n",
    "if __name__ == '__main__':\n",
    "    q = Queue()\n",
    "    q.enQueue(1) \n",
    "    q.enQueue(2) \n",
    "    q.enQueue(3) \n",
    "  \n",
    "    print(q.deQueue())\n",
    "    print(q.deQueue())\n",
    "    print(q.deQueue())\n",
    "  "
   ]
  },
  {
   "cell_type": "code",
   "execution_count": null,
   "id": "1d4553b9",
   "metadata": {},
   "outputs": [],
   "source": []
  }
 ],
 "metadata": {
  "kernelspec": {
   "display_name": "Python 3 (ipykernel)",
   "language": "python",
   "name": "python3"
  },
  "language_info": {
   "codemirror_mode": {
    "name": "ipython",
    "version": 3
   },
   "file_extension": ".py",
   "mimetype": "text/x-python",
   "name": "python",
   "nbconvert_exporter": "python",
   "pygments_lexer": "ipython3",
   "version": "3.10.1"
  }
 },
 "nbformat": 4,
 "nbformat_minor": 5
}
